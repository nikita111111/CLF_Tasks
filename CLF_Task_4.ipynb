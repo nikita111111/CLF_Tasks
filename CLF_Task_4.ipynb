{
 "cells": [
  {
   "cell_type": "markdown",
   "metadata": {},
   "source": [
    "# Линейная регрессия"
   ]
  },
  {
   "cell_type": "markdown",
   "metadata": {},
   "source": [
    "Данные содержатся в файле `data/lin_reg.txt`. Прочитать их можно следующим так:"
   ]
  },
  {
   "cell_type": "code",
   "execution_count": 41,
   "metadata": {},
   "outputs": [],
   "source": [
    "import numpy as np\n",
    "D = np.loadtxt('data/lin_reg.txt', delimiter=',')\n",
    "X = D[:, :-1]\n",
    "Y = D[:, -1]"
   ]
  },
  {
   "cell_type": "markdown",
   "metadata": {},
   "source": [
    "При выполнении заданий **нельзя** пользоваться `scikit-learn` и т.п., только `NumPy`/`JAX`/`TF`/`PyTorch` и `matplotlib`/`seaborn`/`plotly`/etc.\n",
    "\n",
    "1. Нарисуйте график среднеквадратичной ошибки в зависимости от параметра регуляризации $\\alpha$, используя полные данные для обучения и для тестирования. \n",
    "2. Подготовьте исходные данные для 5 fold CV.\n",
    "3. С помощью CV найдите оптимальное значение $\\alpha$ на какой-нибудь сетке значений.\n",
    "4. Постройте валидационную кривую. \n",
    "5. Постройте кривую обучения."
   ]
  },
  {
   "cell_type": "code",
   "execution_count": 73,
   "metadata": {},
   "outputs": [],
   "source": [
    "import numpy as np\n",
    "import matplotlib.pyplot as plt\n",
    "\n",
    "class LinearRegression():\n",
    "    def __init__(self):\n",
    "        self.W = None\n",
    "        self.reg = 1.0\n",
    "    def fit(self, X, y, val_X=None, val_y=None, batch_size=1000, learning_rate=1e-6, reg=1e-2, epochs=1000):\n",
    "        self.reg = reg\n",
    "        num_train = X.shape[0]\n",
    "        num_features = X.shape[1]\n",
    "        if self.W is None:\n",
    "            self.W = 0.001 * np.ones((num_features, 1))\n",
    "\n",
    "        loss_history = []\n",
    "        loss_history_val = []\n",
    "        for epoch in range(epochs):\n",
    "            loss, dW = linear_softmax(X, self.W, y)\n",
    "            loss_l2, dW_l2 = l2_regularization(self.W, reg)\n",
    "\n",
    "            self.W -= learning_rate * (dW + dW_l2)\n",
    "            loss += loss_l2\n",
    "            loss_history.append(loss)\n",
    "            if not(val_X is None):\n",
    "                val_prediction = lr.predict(val_X)\n",
    "                loss_history_val.append(lr.loss(val_y, val_prediction))\n",
    "        if loss_history_val:\n",
    "            return loss_history, loss_history_val\n",
    "        return loss_history\n",
    "\n",
    "    def predict(self, X):\n",
    "        return X @ self.W\n",
    "    \n",
    "    def loss(self, Y, preds):\n",
    "        loss_mse = mse_loss(Y, preds)\n",
    "        loss_l2, _ = l2_regularization(self.W, self.reg)\n",
    "        return loss_mse + loss_l2"
   ]
  },
  {
   "cell_type": "code",
   "execution_count": 74,
   "metadata": {},
   "outputs": [],
   "source": [
    "def mse_loss(Y, preds):\n",
    "    return ((Y-preds)**2).mean()\n",
    "\n",
    "\n",
    "def l2_regularization(W, reg_strength):\n",
    "    loss = reg_strength * np.sum(W ** 2)\n",
    "    grad = 2 * reg_strength * W\n",
    "    return loss, grad\n",
    "\n",
    "\n",
    "def linear_softmax(X, W, Y):\n",
    "    preds = X @ W\n",
    "    loss = mse_loss(Y, preds)\n",
    "    grad = 2*(X @ W-Y).T @ X\n",
    "    return loss, grad.T"
   ]
  },
  {
   "cell_type": "code",
   "execution_count": 75,
   "metadata": {},
   "outputs": [
    {
     "data": {
      "text/plain": [
       "array([1.e-10, 1.e-09, 1.e-08, 1.e-07, 1.e-06, 1.e-05, 1.e-04, 1.e-03,\n",
       "       1.e-02, 1.e-01])"
      ]
     },
     "execution_count": 75,
     "metadata": {},
     "output_type": "execute_result"
    }
   ],
   "source": [
    "alphas"
   ]
  },
  {
   "cell_type": "code",
   "execution_count": 76,
   "metadata": {},
   "outputs": [
    {
     "data": {
      "text/plain": [
       "Text(0, 0.5, 'Loss with L2')"
      ]
     },
     "execution_count": 76,
     "metadata": {},
     "output_type": "execute_result"
    },
    {
     "data": {
      "image/png": "[encoded data removed]",
      "text/plain": [
       "<Figure size 1152x576 with 1 Axes>"
      ]
     },
     "metadata": {
      "needs_background": "light"
     },
     "output_type": "display_data"
    }
   ],
   "source": [
    "start = -10 \n",
    "stop = 0\n",
    "slicer = 0.9\n",
    "alphas = 10.0 ** np.arange(start, stop)\n",
    "Y = Y.reshape(-1, 1)\n",
    "train_X, val_X = X[:int(slicer*X.shape[0])], X[int(slicer*X.shape[0]):]\n",
    "train_y, val_y = Y[:int(slicer*Y.shape[0])], Y[int(slicer*Y.shape[0]):]\n",
    "\n",
    "val_history = []\n",
    "for alpha in alphas:\n",
    "    lr = LinearRegression()\n",
    "    loss_history, loss_history_val = lr.fit(train_X, train_y, val_X, val_y, epochs=5000, reg = alpha)\n",
    "    val_history.append(loss_history_val[-1])\n",
    "\n",
    "plt.figure(figsize=(16,8))\n",
    "plt.plot(np.arange(start, stop), val_history)\n",
    "plt.legend(['val'])\n",
    "plt.xlabel('Alpha order')\n",
    "plt.ylabel('Loss with L2')"
   ]
  },
  {
   "cell_type": "code",
   "execution_count": 77,
   "metadata": {},
   "outputs": [],
   "source": [
    "k_folds = 5\n",
    "train_folds_X = []\n",
    "train_folds_y = []\n",
    "np.random.seed(42)\n",
    "num_samples = X.shape[0]\n",
    "ind = [i for i in range(num_samples)]\n",
    "np.random.shuffle(ind)\n",
    "ind_folds = np.array_split(ind, k_folds)\n",
    "\n",
    "for i in ind_folds:\n",
    "    fold_X = []\n",
    "    fold_y = []\n",
    "    for j in i:\n",
    "        fold_X.append(X[j])\n",
    "        fold_y.append(Y[j])\n",
    "    train_folds_X.append(np.array(fold_X))\n",
    "    train_folds_y.append(np.array(fold_y))\n",
    "\n",
    "alphas_to_mse = {}\n",
    "losses = {alpha:[] for alpha in alphas}\n",
    "losses_val = {alpha:[] for alpha in alphas}\n",
    "for alpha in alphas:\n",
    "    val_history = []\n",
    "\n",
    "    for num_fold in range(k_folds):\n",
    "        lr = LinearRegression()\n",
    "        val_train_X = np.concatenate(np.delete(train_folds_X, num_fold, 0))\n",
    "        val_train_y = np.concatenate(np.delete(train_folds_y, num_fold, 0))\n",
    "        val_X, val_y = train_folds_X[num_fold], train_folds_y[num_fold]\n",
    "        \n",
    "        loss_history, loss_history_val = lr.fit(val_train_X, val_train_y, val_X, val_y, epochs=100, reg = alpha)\n",
    "        losses[alpha].append(loss_history)\n",
    "        losses_val[alpha].append(loss_history_val)\n",
    "    losses[alpha] = np.array(losses[alpha]).mean(axis=0)\n",
    "    losses_val[alpha] = np.array(losses_val[alpha]).mean(axis=0)\n",
    "\n",
    "    alphas_to_mse[alpha] = losses_val[alpha][-1]"
   ]
  },
  {
   "cell_type": "code",
   "execution_count": 78,
   "metadata": {},
   "outputs": [
    {
     "name": "stdout",
     "output_type": "stream",
     "text": [
      "Optimal alpha is 1e-10\n"
     ]
    },
    {
     "data": {
      "text/plain": [
       "Text(0, 0.5, 'Loss L2')"
      ]
     },
     "execution_count": 78,
     "metadata": {},
     "output_type": "execute_result"
    },
    {
     "data": {
      "image/png": "[encoded data removed]",
      "text/plain": [
       "<Figure size 1080x576 with 1 Axes>"
      ]
     },
     "metadata": {
      "needs_background": "light"
     },
     "output_type": "display_data"
    }
   ],
   "source": [
    "alpha = sorted(alphas_to_mse.items(), key=lambda x:x[1])[0][0]\n",
    "print(f\"Optimal alpha is {alpha}\")\n",
    "plt.figure(figsize=(15,8))\n",
    "plt.plot(losses[alpha])\n",
    "plt.plot(losses_val[alpha])\n",
    "plt.legend(['train', 'val'])\n",
    "plt.xlabel('Epoch')\n",
    "plt.ylabel('Loss L2')"
   ]
  }
 ],
 "metadata": {
  "kernelspec": {
   "display_name": "Python 3",
   "language": "python",
   "name": "python3"
  },
  "language_info": {
   "codemirror_mode": {
    "name": "ipython",
    "version": 3
   },
   "file_extension": ".py",
   "mimetype": "text/x-python",
   "name": "python",
   "nbconvert_exporter": "python",
   "pygments_lexer": "ipython3",
   "version": "3.7.1"
  }
 },
 "nbformat": 4,
 "nbformat_minor": 4
}
